{
 "cells": [
  {
   "cell_type": "markdown",
   "id": "0e7d1732",
   "metadata": {},
   "source": [
    "\n",
    "## Web Scraping using Beautiful Soup in Python3 \n",
    "#### WHEN NO LOG IN IS REQUIRED\n",
    "\n",
    "_The following cell has the entire code to web scrape a test website with <br>\n",
    "Beautiful Soup and save requested data in a CSV file.\n",
    "Following the full code is a step-by-step explanation of the code_"
   ]
  },
  {
   "cell_type": "markdown",
   "id": "1aa144e3",
   "metadata": {},
   "source": [
    "> Author contact: <br>\n",
    "> Kari Lewallen <br>\n",
    "> karileelew@gmail.com <br>\n",
    "> GitHub: karileelew"
   ]
  },
  {
   "cell_type": "code",
   "execution_count": 2,
   "id": "2ea52366",
   "metadata": {},
   "outputs": [
    {
     "name": "stdout",
     "output_type": "stream",
     "text": [
      "“The world as we have created it is a process of our thinking. It cannot be changed without changing our thinking.” - Albert Einstein\n",
      "“It is our choices, Harry, that show what we truly are, far more than our abilities.” - J.K. Rowling\n",
      "“There are only two ways to live your life. One is as though nothing is a miracle. The other is as though everything is a miracle.” - Albert Einstein\n",
      "“The person, be it gentleman or lady, who has not pleasure in a good novel, must be intolerably stupid.” - Jane Austen\n",
      "“Imperfection is beauty, madness is genius and it's better to be absolutely ridiculous than absolutely boring.” - Marilyn Monroe\n",
      "“Try not to become a man of success. Rather become a man of value.” - Albert Einstein\n",
      "“It is better to be hated for what you are than to be loved for what you are not.” - André Gide\n",
      "“I have not failed. I've just found 10,000 ways that won't work.” - Thomas A. Edison\n",
      "“A woman is like a tea bag; you never know how strong it is until it's in hot water.” - Eleanor Roosevelt\n",
      "“A day without sunshine is like, you know, night.” - Steve Martin\n"
     ]
    }
   ],
   "source": [
    "from bs4 import BeautifulSoup\n",
    "import requests\n",
    "import csv\n",
    "\n",
    "website_to_scrape = requests.get(\"http://quotes.toscrape.com\")\n",
    "soup = BeautifulSoup(website_to_scrape.text, \"html.parser\")\n",
    "quotes = soup.find_all(\"span\", attrs={'class': 'text'})\n",
    "authors = soup.find_all(\"small\", attrs={'class': 'author'})\n",
    "file = open('scraped_quotes.csv', 'w', newline='')\n",
    "writer = csv.writer(file)\n",
    "for quote, author in zip(quotes, authors):\n",
    "    print(quote.get_text() + \" - \" + author.get_text())\n",
    "    writer.writerow([quote.text, author.text])\n",
    "file.close()"
   ]
  },
  {
   "cell_type": "markdown",
   "id": "236baecd",
   "metadata": {},
   "source": [
    "### Code Walk-Through / Explanation"
   ]
  },
  {
   "cell_type": "code",
   "execution_count": 3,
   "id": "8857331d",
   "metadata": {},
   "outputs": [],
   "source": [
    "### Import packages \n",
    "\n",
    "from bs4 import BeautifulSoup\n",
    "import requests\n",
    "import csv"
   ]
  },
  {
   "cell_type": "code",
   "execution_count": 4,
   "id": "45b431aa",
   "metadata": {},
   "outputs": [],
   "source": [
    "# Set variable for website to scrape \n",
    "## using a sample website designed for testing \"quotes.toscrape.com\"\n",
    "\n",
    "webpage_to_scrape = requests.get(\"http://quotes.toscrape.com\")"
   ]
  },
  {
   "cell_type": "code",
   "execution_count": 5,
   "id": "18dc89fb",
   "metadata": {},
   "outputs": [],
   "source": [
    "# Set variable for the data collected from the website html\n",
    "\n",
    "soup = BeautifulSoup(webpage_to_scrape.text, \"html.parser\")"
   ]
  },
  {
   "attachments": {
    "image-2.png": {
     "image/png": "[encoded data removed]"
    },
    "image-3.png": {
     "image/png": "[encoded data removed]"
    }
   },
   "cell_type": "markdown",
   "id": "398e17ea",
   "metadata": {},
   "source": [
    "On the website, select the data to collect, right-click and select \"Inspect.\"\n",
    "Use this data for the next step in the code.\n",
    "\n",
    "For quotes:\n",
    "\n",
    "![image-2.png](attachment:image-2.png)\n",
    "\n",
    "For authors:\n",
    "\n",
    "![image-3.png](attachment:image-3.png)"
   ]
  },
  {
   "cell_type": "code",
   "execution_count": 6,
   "id": "4b5b64a7",
   "metadata": {},
   "outputs": [],
   "source": [
    "# Set variables for the data collected\n",
    "\n",
    "quotes = soup.find_all(\"span\", attrs={'class': 'text'})\n",
    "authors = soup.find_all(\"small\", attrs={'class': 'author'})"
   ]
  },
  {
   "cell_type": "code",
   "execution_count": 7,
   "id": "022eb1c0",
   "metadata": {},
   "outputs": [],
   "source": [
    "# Collect all the data into a csv file\n",
    "# Set variable for the name of csv file to create and send data to, also removes blank lines when \n",
    "#   opening the final file in Excel\n",
    "\n",
    "file = open('scraped_quotes.csv', 'w', newline='')\n",
    "\n",
    "# Set variable for the action of writing to the csv file created\n",
    "\n",
    "writer = csv.writer(file)"
   ]
  },
  {
   "cell_type": "code",
   "execution_count": 8,
   "id": "ab8153b6",
   "metadata": {},
   "outputs": [
    {
     "name": "stdout",
     "output_type": "stream",
     "text": [
      "“The world as we have created it is a process of our thinking. It cannot be changed without changing our thinking.” - Albert Einstein\n",
      "“It is our choices, Harry, that show what we truly are, far more than our abilities.” - J.K. Rowling\n",
      "“There are only two ways to live your life. One is as though nothing is a miracle. The other is as though everything is a miracle.” - Albert Einstein\n",
      "“The person, be it gentleman or lady, who has not pleasure in a good novel, must be intolerably stupid.” - Jane Austen\n",
      "“Imperfection is beauty, madness is genius and it's better to be absolutely ridiculous than absolutely boring.” - Marilyn Monroe\n",
      "“Try not to become a man of success. Rather become a man of value.” - Albert Einstein\n",
      "“It is better to be hated for what you are than to be loved for what you are not.” - André Gide\n",
      "“I have not failed. I've just found 10,000 ways that won't work.” - Thomas A. Edison\n",
      "“A woman is like a tea bag; you never know how strong it is until it's in hot water.” - Eleanor Roosevelt\n",
      "“A day without sunshine is like, you know, night.” - Steve Martin\n"
     ]
    }
   ],
   "source": [
    "# Create a for loop, using the above named variables, to collect all the quotes and authors \n",
    "#   from this website and save all the data as a csv file\n",
    "#   then close the csv file\n",
    "\n",
    "for quote, author in zip(quotes, authors):\n",
    "    print(quote.get_text() + \" - \" + author.get_text())\n",
    "    writer.writerow([quote.text, author.text])\n",
    "file.close()"
   ]
  },
  {
   "cell_type": "markdown",
   "id": "1c06f914",
   "metadata": {},
   "source": [
    "### THE END"
   ]
  }
 ],
 "metadata": {
  "kernelspec": {
   "display_name": "Python 3 (ipykernel)",
   "language": "python",
   "name": "python3"
  },
  "language_info": {
   "codemirror_mode": {
    "name": "ipython",
    "version": 3
   },
   "file_extension": ".py",
   "mimetype": "text/x-python",
   "name": "python",
   "nbconvert_exporter": "python",
   "pygments_lexer": "ipython3",
   "version": "3.11.3"
  }
 },
 "nbformat": 4,
 "nbformat_minor": 5
}
