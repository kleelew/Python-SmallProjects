{
 "cells": [
  {
   "attachments": {
    "image-2.png": {
     "image/png": "[encoded data removed]"
    }
   },
   "cell_type": "markdown",
   "metadata": {},
   "source": [
    "## Splitting Large PDF into smaller page files\n",
    "\n",
    "In the process of working on code to help with a specific monthly task in my accounting job.<br>\n",
    "I created this part of the code to take a 400+ page invoice and split into smaller, <br>\n",
    "50-page files and save each with a specific name\n",
    "\n",
    "To run this code, I used the following details to use to located original pdf and set the output directory:\n",
    "\n",
    "![image-2.png](attachment:image-2.png)\n",
    "\n",
    "> Author contact: <br>\n",
    "> Kari Lewallen <br>\n",
    "> karileelew@gmail.com <br>\n",
    "> GitHub: kleelew"
   ]
  },
  {
   "cell_type": "code",
   "execution_count": 2,
   "metadata": {},
   "outputs": [],
   "source": [
    "#import packages\n",
    "import os\n",
    "import pypdf\n",
    "\n",
    "#create a function and provide the file path to original, large PDF file and the directory to save the smaller PDFs\n",
    "def split_pdf(pdf_file, output_dir, pagesper):\n",
    "    pdf_reader = pypdf.PdfReader(pdf_file)\n",
    "    num_pages = len(pdf_reader.pages)\n",
    "\n",
    "    #Message will display if the number of pages in the original file is less than the number of pages specified in 'pagesper' variable\n",
    "    if num_pages <= pagesper:\n",
    "        print(\"The PDF does not have more pages than specified, so it will not be split.\")\n",
    "        return\n",
    "\n",
    "    #calculate how many files need to be created\n",
    "    num_files = num_pages // pagesper + 1\n",
    "\n",
    "    #if the output directory does not already exist, create it\n",
    "    if not os.path.exists(output_dir):\n",
    "        os.makedirs(output_dir)\n",
    "    \n",
    "    #separating into the different files\n",
    "    for i in range(num_files):\n",
    "        start_page = i * pagesper\n",
    "        end_page = min(num_pages, (i + 1) * pagesper)\n",
    "\n",
    "        #name the output files\n",
    "        output_file = os.path.join(output_dir, \"{}_split_{}.pdf\".format(os.path.basename(pdf_file[:-4]), i))\n",
    "        with open(output_file, \"wb\") as outfile:\n",
    "            writer = pypdf.PdfWriter()\n",
    "            for page in range(start_page, end_page):\n",
    "                writer.add_page(pdf_reader.pages[page])\n",
    "            writer.write(outfile)\n"
   ]
  }
 ],
 "metadata": {
  "kernelspec": {
   "display_name": "Python 3",
   "language": "python",
   "name": "python3"
  },
  "language_info": {
   "codemirror_mode": {
    "name": "ipython",
    "version": 3
   },
   "file_extension": ".py",
   "mimetype": "text/x-python",
   "name": "python",
   "nbconvert_exporter": "python",
   "pygments_lexer": "ipython3",
   "version": "3.11.3"
  },
  "orig_nbformat": 4
 },
 "nbformat": 4,
 "nbformat_minor": 2
}
